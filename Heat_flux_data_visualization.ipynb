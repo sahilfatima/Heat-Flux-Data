{
  "metadata": {
    "kernelspec": {
      "language": "python",
      "display_name": "Python 3",
      "name": "python3"
    },
    "language_info": {
      "name": "python",
      "version": "3.10.10",
      "mimetype": "text/x-python",
      "codemirror_mode": {
        "name": "ipython",
        "version": 3
      },
      "pygments_lexer": "ipython3",
      "nbconvert_exporter": "python",
      "file_extension": ".py"
    },
    "kaggle": {
      "accelerator": "none",
      "dataSources": [
        {
          "sourceId": 51982,
          "databundleVersionId": 5760919,
          "sourceType": "competition"
        }
      ],
      "dockerImageVersionId": 30474,
      "isInternetEnabled": true,
      "language": "python",
      "sourceType": "notebook",
      "isGpuEnabled": false
    },
    "colab": {
      "name": "Heat flux data visualization",
      "provenance": [],
      "include_colab_link": true
    }
  },
  "nbformat_minor": 0,
  "nbformat": 4,
  "cells": [
    {
      "cell_type": "markdown",
      "metadata": {
        "id": "view-in-github",
        "colab_type": "text"
      },
      "source": [
        "<a href=\"https://colab.research.google.com/github/sahilfatima/Heat-Flux-Data/blob/main/Heat_flux_data_visualization.ipynb\" target=\"_parent\"><img src=\"https://colab.research.google.com/assets/colab-badge.svg\" alt=\"Open In Colab\"/></a>"
      ]
    },
    {
      "source": [
        "import os\n",
        "import sys\n",
        "from tempfile import NamedTemporaryFile\n",
        "from urllib.request import urlopen\n",
        "from urllib.parse import unquote, urlparse\n",
        "from urllib.error import HTTPError\n",
        "from zipfile import ZipFile\n",
        "import tarfile\n",
        "import shutil\n",
        "\n",
        "CHUNK_SIZE = 40960\n",
        "DATA_SOURCE_MAPPING = 'playground-series-s3e15:https%3A%2F%2Fstorage.googleapis.com%2Fkaggle-competitions-data%2Fkaggle-v2%2F51982%2F5760919%2Fbundle%2Farchive.zip%3FX-Goog-Algorithm%3DGOOG4-RSA-SHA256%26X-Goog-Credential%3Dgcp-kaggle-com%2540kaggle-161607.iam.gserviceaccount.com%252F20240201%252Fauto%252Fstorage%252Fgoog4_request%26X-Goog-Date%3D20240201T163324Z%26X-Goog-Expires%3D259200%26X-Goog-SignedHeaders%3Dhost%26X-Goog-Signature%3Dbf6da2b669b989b117ac06338e3a9c714b432cb13f557ba5db248321c79507442bf7ab53d1a9c26fa6b99f675442f416d0f8854642f025b7dea078aa2926397933d0d787071423880213c001ec970add7bd8c9da1570568ca33e8c425ab7d18381e3d8bbf89ba216bc9d0b0b86969c0d2526a4620bdd0ead52365af1cdb3865f7032a4b52b8b81d50a2c630ae2ede58fe15f260c57bedee31753c242cce899734fd1f896cc3ff13a503c171fe1941e3e8c2f3ba4a6ced24b8873399a2af1b6e405839e9772c2db18112262e641a7fbf54a24401bb343e597a784b9c711c9e238a24ebf75507c4fe38c796141ed37b774e17375aaa2a667f85f5e7be71ee18559'\n",
        "\n",
        "KAGGLE_INPUT_PATH='/kaggle/input'\n",
        "KAGGLE_WORKING_PATH='/kaggle/working'\n",
        "KAGGLE_SYMLINK='kaggle'\n",
        "\n",
        "!umount /kaggle/input/ 2> /dev/null\n",
        "shutil.rmtree('/kaggle/input', ignore_errors=True)\n",
        "os.makedirs(KAGGLE_INPUT_PATH, 0o777, exist_ok=True)\n",
        "os.makedirs(KAGGLE_WORKING_PATH, 0o777, exist_ok=True)\n",
        "\n",
        "try:\n",
        "  os.symlink(KAGGLE_INPUT_PATH, os.path.join(\"..\", 'input'), target_is_directory=True)\n",
        "except FileExistsError:\n",
        "  pass\n",
        "try:\n",
        "  os.symlink(KAGGLE_WORKING_PATH, os.path.join(\"..\", 'working'), target_is_directory=True)\n",
        "except FileExistsError:\n",
        "  pass\n",
        "\n",
        "for data_source_mapping in DATA_SOURCE_MAPPING.split(','):\n",
        "    directory, download_url_encoded = data_source_mapping.split(':')\n",
        "    download_url = unquote(download_url_encoded)\n",
        "    filename = urlparse(download_url).path\n",
        "    destination_path = os.path.join(KAGGLE_INPUT_PATH, directory)\n",
        "    try:\n",
        "        with urlopen(download_url) as fileres, NamedTemporaryFile() as tfile:\n",
        "            total_length = fileres.headers['content-length']\n",
        "            print(f'Downloading {directory}, {total_length} bytes compressed')\n",
        "            dl = 0\n",
        "            data = fileres.read(CHUNK_SIZE)\n",
        "            while len(data) > 0:\n",
        "                dl += len(data)\n",
        "                tfile.write(data)\n",
        "                done = int(50 * dl / int(total_length))\n",
        "                sys.stdout.write(f\"\\r[{'=' * done}{' ' * (50-done)}] {dl} bytes downloaded\")\n",
        "                sys.stdout.flush()\n",
        "                data = fileres.read(CHUNK_SIZE)\n",
        "            if filename.endswith('.zip'):\n",
        "              with ZipFile(tfile) as zfile:\n",
        "                zfile.extractall(destination_path)\n",
        "            else:\n",
        "              with tarfile.open(tfile.name) as tarfile:\n",
        "                tarfile.extractall(destination_path)\n",
        "            print(f'\\nDownloaded and uncompressed: {directory}')\n",
        "    except HTTPError as e:\n",
        "        print(f'Failed to load (likely expired) {download_url} to path {destination_path}')\n",
        "        continue\n",
        "    except OSError as e:\n",
        "        print(f'Failed to load {download_url} to path {destination_path}')\n",
        "        continue\n",
        "\n",
        "print('Data source import complete.')\n"
      ],
      "metadata": {
        "id": "DF1Ozw_XhJ8c"
      },
      "cell_type": "code",
      "outputs": [],
      "execution_count": null
    },
    {
      "cell_type": "code",
      "source": [
        "import pandas as pd\n",
        "import numpy as np\n",
        "import matplotlib.pyplot as plt\n",
        "import seaborn as sns\n",
        "import scipy\n",
        "from scipy.cluster.hierarchy import dendrogram, linkage\n",
        "from scipy.spatial.distance import squareform"
      ],
      "metadata": {
        "_uuid": "8f2839f25d086af736a60e9eeb907d3b93b6e0e5",
        "_cell_guid": "b1076dfc-b9ad-4769-8c92-a6c4dae69d19",
        "execution": {
          "iopub.status.busy": "2024-01-08T06:07:32.923563Z",
          "iopub.execute_input": "2024-01-08T06:07:32.924041Z",
          "iopub.status.idle": "2024-01-08T06:07:32.930377Z",
          "shell.execute_reply.started": "2024-01-08T06:07:32.924008Z",
          "shell.execute_reply": "2024-01-08T06:07:32.929179Z"
        },
        "trusted": true,
        "id": "q3aIOedahJ8e"
      },
      "execution_count": null,
      "outputs": []
    },
    {
      "cell_type": "code",
      "source": [
        "data= pd.read_csv(\"/kaggle/input/playground-series-s3e15/data.csv\")\n",
        "data.head()"
      ],
      "metadata": {
        "execution": {
          "iopub.status.busy": "2024-01-08T06:07:37.892991Z",
          "iopub.execute_input": "2024-01-08T06:07:37.893411Z",
          "iopub.status.idle": "2024-01-08T06:07:38.031021Z",
          "shell.execute_reply.started": "2024-01-08T06:07:37.893379Z",
          "shell.execute_reply": "2024-01-08T06:07:38.029168Z"
        },
        "trusted": true,
        "id": "dOR-qN05hJ8e"
      },
      "execution_count": null,
      "outputs": []
    },
    {
      "cell_type": "code",
      "source": [
        "data.info()"
      ],
      "metadata": {
        "execution": {
          "iopub.status.busy": "2024-01-08T06:07:43.244586Z",
          "iopub.execute_input": "2024-01-08T06:07:43.246209Z",
          "iopub.status.idle": "2024-01-08T06:07:43.304504Z",
          "shell.execute_reply.started": "2024-01-08T06:07:43.24615Z",
          "shell.execute_reply": "2024-01-08T06:07:43.303058Z"
        },
        "trusted": true,
        "id": "qFswUmNAhJ8e"
      },
      "execution_count": null,
      "outputs": []
    },
    {
      "cell_type": "code",
      "source": [
        "correlation = data.corr(numeric_only=True)"
      ],
      "metadata": {
        "execution": {
          "iopub.status.busy": "2024-01-08T06:09:46.973799Z",
          "iopub.execute_input": "2024-01-08T06:09:46.975133Z",
          "iopub.status.idle": "2024-01-08T06:09:46.994658Z",
          "shell.execute_reply.started": "2024-01-08T06:09:46.975084Z",
          "shell.execute_reply": "2024-01-08T06:09:46.992501Z"
        },
        "trusted": true,
        "id": "pzoxqYukhJ8e"
      },
      "execution_count": null,
      "outputs": []
    },
    {
      "cell_type": "code",
      "source": [
        "sns.heatmap(data.corr(numeric_only=True), annot=True, cmap=\"coolwarm\", linecolor=\"black\")"
      ],
      "metadata": {
        "execution": {
          "iopub.status.busy": "2024-01-08T06:10:38.53672Z",
          "iopub.execute_input": "2024-01-08T06:10:38.53721Z",
          "iopub.status.idle": "2024-01-08T06:10:39.219584Z",
          "shell.execute_reply.started": "2024-01-08T06:10:38.53718Z",
          "shell.execute_reply": "2024-01-08T06:10:39.218183Z"
        },
        "trusted": true,
        "id": "nBeEGsQXhJ8e"
      },
      "execution_count": null,
      "outputs": []
    },
    {
      "cell_type": "code",
      "source": [
        "data['author'].nunique()"
      ],
      "metadata": {
        "execution": {
          "iopub.status.busy": "2024-01-08T06:10:44.741953Z",
          "iopub.execute_input": "2024-01-08T06:10:44.742773Z",
          "iopub.status.idle": "2024-01-08T06:10:44.755573Z",
          "shell.execute_reply.started": "2024-01-08T06:10:44.742703Z",
          "shell.execute_reply": "2024-01-08T06:10:44.753823Z"
        },
        "trusted": true,
        "id": "nxWt-rd3hJ8f"
      },
      "execution_count": null,
      "outputs": []
    },
    {
      "cell_type": "code",
      "source": [
        "author = data['author'].value_counts()\n",
        "\n",
        "sorted_auth = author.sort_values(ascending=False)\n",
        "\n",
        "plt.figure(figsize=(10, 6))\n",
        "sns.countplot(x='author', data=data, order=sorted_auth.index)\n",
        "\n",
        "plt.xlabel(\"Author Name\")\n",
        "plt.ylabel(\"Count\")\n",
        "plt.show()"
      ],
      "metadata": {
        "execution": {
          "iopub.status.busy": "2024-01-08T06:10:48.003182Z",
          "iopub.execute_input": "2024-01-08T06:10:48.003622Z",
          "iopub.status.idle": "2024-01-08T06:10:48.380242Z",
          "shell.execute_reply.started": "2024-01-08T06:10:48.003587Z",
          "shell.execute_reply": "2024-01-08T06:10:48.37891Z"
        },
        "trusted": true,
        "id": "C-3_xaT_hJ8f"
      },
      "execution_count": null,
      "outputs": []
    },
    {
      "cell_type": "code",
      "source": [
        "geometry = data['geometry'].value_counts()\n",
        "\n",
        "sorted_geometry = geometry.sort_values(ascending=False)\n",
        "\n",
        "plt.figure(figsize=(10, 6))\n",
        "sns.countplot(x='geometry', data=data, order=sorted_geometry.index, palette='muted')\n",
        "\n",
        "plt.xlabel(\"Geometry\")\n",
        "plt.ylabel(\"Count\")\n",
        "plt.show()"
      ],
      "metadata": {
        "execution": {
          "iopub.status.busy": "2024-01-08T06:10:52.101506Z",
          "iopub.execute_input": "2024-01-08T06:10:52.101962Z",
          "iopub.status.idle": "2024-01-08T06:10:52.366119Z",
          "shell.execute_reply.started": "2024-01-08T06:10:52.101927Z",
          "shell.execute_reply": "2024-01-08T06:10:52.364686Z"
        },
        "trusted": true,
        "id": "vwS60amUhJ8f"
      },
      "execution_count": null,
      "outputs": []
    },
    {
      "cell_type": "code",
      "source": [
        "fig, ax = plt.subplots(1, 1, figsize = (16, 5))\n",
        "\n",
        "ax.pie(\n",
        "    data['author'].value_counts(),\n",
        "    shadow = True,\n",
        "    explode = [.1 for i in range(0, 10)],\n",
        "    autopct = '%1.f%%',\n",
        "    textprops = {'size' : 14, 'color' : 'white'}\n",
        ")"
      ],
      "metadata": {
        "execution": {
          "iopub.status.busy": "2024-01-08T06:10:57.12066Z",
          "iopub.execute_input": "2024-01-08T06:10:57.121177Z",
          "iopub.status.idle": "2024-01-08T06:10:57.432771Z",
          "shell.execute_reply.started": "2024-01-08T06:10:57.121138Z",
          "shell.execute_reply": "2024-01-08T06:10:57.430626Z"
        },
        "trusted": true,
        "id": "zTNTlOiahJ8f"
      },
      "execution_count": null,
      "outputs": []
    },
    {
      "cell_type": "code",
      "source": [
        "fig, ax = plt.subplots(1, 1, figsize = (16, 5))\n",
        "\n",
        "ax.pie(\n",
        "    data['geometry'].value_counts(),\n",
        "    shadow = True,\n",
        "    explode = [.1 for i in range(0, 3)],\n",
        "    autopct = '%1.f%%',\n",
        "    textprops = {'size' : 14, 'color' : 'white'}\n",
        ")"
      ],
      "metadata": {
        "execution": {
          "iopub.status.busy": "2024-01-08T06:11:01.393242Z",
          "iopub.execute_input": "2024-01-08T06:11:01.393659Z",
          "iopub.status.idle": "2024-01-08T06:11:01.631061Z",
          "shell.execute_reply.started": "2024-01-08T06:11:01.393624Z",
          "shell.execute_reply": "2024-01-08T06:11:01.629132Z"
        },
        "trusted": true,
        "id": "60K-kYxHhJ8f"
      },
      "execution_count": null,
      "outputs": []
    },
    {
      "cell_type": "code",
      "source": [
        "data.isnull().sum()"
      ],
      "metadata": {
        "execution": {
          "iopub.status.busy": "2024-01-08T06:11:05.57179Z",
          "iopub.execute_input": "2024-01-08T06:11:05.572271Z",
          "iopub.status.idle": "2024-01-08T06:11:05.605677Z",
          "shell.execute_reply.started": "2024-01-08T06:11:05.572235Z",
          "shell.execute_reply": "2024-01-08T06:11:05.604049Z"
        },
        "trusted": true,
        "id": "TTlikswehJ8f"
      },
      "execution_count": null,
      "outputs": []
    },
    {
      "cell_type": "code",
      "source": [
        "\n",
        "target_corr = correlation['x_e_out [-]'].drop('x_e_out [-]')\n",
        "target_corr_sorted = target_corr.sort_values(ascending=False)\n",
        "\n",
        "sns.set_style(\"white\")\n",
        "sns.set_palette(\"PuBuGn_d\")\n",
        "sns.heatmap(target_corr_sorted.to_frame(), cmap=\"coolwarm\", annot=True, fmt='.2f')\n",
        "plt.title(\"Correlation matrix with target variable\")\n",
        "plt.show()"
      ],
      "metadata": {
        "execution": {
          "iopub.status.busy": "2023-05-20T03:20:45.939963Z",
          "iopub.execute_input": "2023-05-20T03:20:45.94083Z",
          "iopub.status.idle": "2023-05-20T03:20:46.268105Z",
          "shell.execute_reply.started": "2023-05-20T03:20:45.940798Z",
          "shell.execute_reply": "2023-05-20T03:20:46.267087Z"
        },
        "trusted": true,
        "id": "XIoNNECLhJ8f"
      },
      "execution_count": null,
      "outputs": []
    },
    {
      "cell_type": "markdown",
      "source": [
        "## **Distribution of numerical features**"
      ],
      "metadata": {
        "id": "WdPav-LRhJ8f"
      }
    },
    {
      "cell_type": "markdown",
      "source": [
        "## ***1. Histplot***"
      ],
      "metadata": {
        "id": "V5CWLLYchJ8g"
      }
    },
    {
      "cell_type": "code",
      "source": [
        "num_cols = data.select_dtypes(include = ['float64']).columns.tolist()\n",
        "for col in num_cols:\n",
        "        sns.histplot(data[col], kde=True)\n",
        "        plt.xlabel(col)\n",
        "        plt.ylabel('Frequency')\n",
        "        plt.title('Distribution of {}'.format(col))\n",
        "        plt.show()"
      ],
      "metadata": {
        "execution": {
          "iopub.status.busy": "2024-01-08T06:11:09.492345Z",
          "iopub.execute_input": "2024-01-08T06:11:09.492825Z",
          "iopub.status.idle": "2024-01-08T06:11:14.475268Z",
          "shell.execute_reply.started": "2024-01-08T06:11:09.492791Z",
          "shell.execute_reply": "2024-01-08T06:11:14.473601Z"
        },
        "trusted": true,
        "id": "o0QlhmnAhJ8g"
      },
      "execution_count": null,
      "outputs": []
    },
    {
      "cell_type": "markdown",
      "source": [
        "## ***2. KDE plot***"
      ],
      "metadata": {
        "id": "RmirG5TkhJ8g"
      }
    },
    {
      "cell_type": "code",
      "source": [
        "ig, ax = plt.subplots(7, 1, figsize = (7, 20), dpi = 300)\n",
        "ax = ax.flatten()\n",
        "pal = sns.color_palette('viridis')\n",
        "for i, column in enumerate(num_cols):\n",
        "    sns.kdeplot(data[column], ax=ax[i], color=pal[0])\n",
        "\n",
        "\n",
        "    ax[i].set_title(f'{column} Distribution', size = 7)\n",
        "    ax[i].set_xlabel(None)\n",
        "    ax[i].set_ylabel(None)\n",
        "\n",
        "fig.suptitle('Distribution of Feature\\n\\n', fontsize = 15, fontweight = 'bold')\n",
        "\n",
        "plt.tight_layout()"
      ],
      "metadata": {
        "execution": {
          "iopub.status.busy": "2024-01-08T06:11:24.888982Z",
          "iopub.execute_input": "2024-01-08T06:11:24.889464Z",
          "iopub.status.idle": "2024-01-08T06:11:29.427403Z",
          "shell.execute_reply.started": "2024-01-08T06:11:24.889429Z",
          "shell.execute_reply": "2024-01-08T06:11:29.425566Z"
        },
        "trusted": true,
        "id": "UIeQXDjEhJ8g"
      },
      "execution_count": null,
      "outputs": []
    },
    {
      "cell_type": "code",
      "source": [
        "data.groupby(['geometry', 'author', 'length [mm]']).nunique()"
      ],
      "metadata": {
        "execution": {
          "iopub.status.busy": "2023-05-20T03:38:25.812529Z",
          "iopub.execute_input": "2023-05-20T03:38:25.812918Z",
          "iopub.status.idle": "2023-05-20T03:38:25.874958Z",
          "shell.execute_reply.started": "2023-05-20T03:38:25.812886Z",
          "shell.execute_reply": "2023-05-20T03:38:25.873922Z"
        },
        "trusted": true,
        "id": "a2M8XLCphJ8g"
      },
      "execution_count": null,
      "outputs": []
    },
    {
      "cell_type": "code",
      "source": [
        "data.groupby(['geometry', 'author']).nunique()"
      ],
      "metadata": {
        "execution": {
          "iopub.status.busy": "2024-01-08T06:11:43.069866Z",
          "iopub.execute_input": "2024-01-08T06:11:43.070576Z",
          "iopub.status.idle": "2024-01-08T06:11:43.145679Z",
          "shell.execute_reply.started": "2024-01-08T06:11:43.070542Z",
          "shell.execute_reply": "2024-01-08T06:11:43.144515Z"
        },
        "trusted": true,
        "id": "210XRXeLhJ8g"
      },
      "execution_count": null,
      "outputs": []
    },
    {
      "cell_type": "markdown",
      "source": [
        "## **Calculate feature distance in dataset**"
      ],
      "metadata": {
        "id": "RJvNzPJWhJ8g"
      }
    },
    {
      "cell_type": "code",
      "source": [
        "corr = data[num_cols].corr(method = 'spearman')\n",
        "distance = squareform(1 - abs(corr))\n",
        "print(distance)\n",
        "linkage_matrix = linkage(distance, method='complete')\n",
        "print(linkage_matrix)\n",
        "plt.figure(figsize = (10, 8))\n",
        "dendro = dendrogram(linkage_matrix, labels=data[num_cols].columns, leaf_rotation=90)\n",
        "plt.title(f'Feature Distance in Dataset', weight = 'bold', size = 22)\n",
        "plt.show()"
      ],
      "metadata": {
        "execution": {
          "iopub.status.busy": "2024-01-08T06:11:49.587755Z",
          "iopub.execute_input": "2024-01-08T06:11:49.588145Z",
          "iopub.status.idle": "2024-01-08T06:11:50.070655Z",
          "shell.execute_reply.started": "2024-01-08T06:11:49.588116Z",
          "shell.execute_reply": "2024-01-08T06:11:50.069076Z"
        },
        "trusted": true,
        "id": "Gwq868wwhJ8h"
      },
      "execution_count": null,
      "outputs": []
    }
  ]
}